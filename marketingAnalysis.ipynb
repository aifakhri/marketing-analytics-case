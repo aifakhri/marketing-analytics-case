{
 "cells": [
  {
   "cell_type": "code",
   "execution_count": 3,
   "metadata": {},
   "outputs": [],
   "source": [
    "import pandas as pd\n",
    "import matplotlib.pyplot as plt\n",
    "import seaborn as sns"
   ]
  },
  {
   "cell_type": "code",
   "execution_count": null,
   "metadata": {},
   "outputs": [],
   "source": [
    "HUES = [\"Devices\", \"Ad Types\"]"
   ]
  },
  {
   "cell_type": "code",
   "execution_count": 4,
   "metadata": {},
   "outputs": [
    {
     "data": {
      "text/html": [
       "<div>\n",
       "<style scoped>\n",
       "    .dataframe tbody tr th:only-of-type {\n",
       "        vertical-align: middle;\n",
       "    }\n",
       "\n",
       "    .dataframe tbody tr th {\n",
       "        vertical-align: top;\n",
       "    }\n",
       "\n",
       "    .dataframe thead th {\n",
       "        text-align: right;\n",
       "    }\n",
       "</style>\n",
       "<table border=\"1\" class=\"dataframe\">\n",
       "  <thead>\n",
       "    <tr style=\"text-align: right;\">\n",
       "      <th></th>\n",
       "      <th>Ad Group</th>\n",
       "      <th>Month</th>\n",
       "      <th>Impressions</th>\n",
       "      <th>Clicks</th>\n",
       "      <th>CTR</th>\n",
       "      <th>Conversions</th>\n",
       "      <th>Conv Rate</th>\n",
       "      <th>Cost</th>\n",
       "      <th>CPC</th>\n",
       "      <th>Revenue</th>\n",
       "      <th>Sale Amount</th>\n",
       "      <th>P&amp;L</th>\n",
       "    </tr>\n",
       "  </thead>\n",
       "  <tbody>\n",
       "    <tr>\n",
       "      <th>0</th>\n",
       "      <td>Shop - 1:1 - Desk - [shop coupon code]</td>\n",
       "      <td>July</td>\n",
       "      <td>16038</td>\n",
       "      <td>6504</td>\n",
       "      <td>0.41</td>\n",
       "      <td>1166</td>\n",
       "      <td>0.10</td>\n",
       "      <td>6669</td>\n",
       "      <td>1.03</td>\n",
       "      <td>6402</td>\n",
       "      <td>136770.05</td>\n",
       "      <td>-267.086</td>\n",
       "    </tr>\n",
       "    <tr>\n",
       "      <th>1</th>\n",
       "      <td>Shop - 1:1 - Desk - [shop coupon]</td>\n",
       "      <td>July</td>\n",
       "      <td>36462</td>\n",
       "      <td>14367</td>\n",
       "      <td>0.39</td>\n",
       "      <td>2188</td>\n",
       "      <td>0.09</td>\n",
       "      <td>13746</td>\n",
       "      <td>0.96</td>\n",
       "      <td>13262</td>\n",
       "      <td>283215.21</td>\n",
       "      <td>-483.951</td>\n",
       "    </tr>\n",
       "    <tr>\n",
       "      <th>2</th>\n",
       "      <td>Shop - 1:1 - Desk - [shop discount code]</td>\n",
       "      <td>July</td>\n",
       "      <td>3635</td>\n",
       "      <td>1458</td>\n",
       "      <td>0.40</td>\n",
       "      <td>248</td>\n",
       "      <td>0.09</td>\n",
       "      <td>1606</td>\n",
       "      <td>1.10</td>\n",
       "      <td>1723</td>\n",
       "      <td>39165.46</td>\n",
       "      <td>117.136</td>\n",
       "    </tr>\n",
       "    <tr>\n",
       "      <th>3</th>\n",
       "      <td>Shop - 1:1 - Desk - [shop promo code]</td>\n",
       "      <td>July</td>\n",
       "      <td>26185</td>\n",
       "      <td>10418</td>\n",
       "      <td>0.40</td>\n",
       "      <td>2294</td>\n",
       "      <td>0.12</td>\n",
       "      <td>13278</td>\n",
       "      <td>1.27</td>\n",
       "      <td>13042</td>\n",
       "      <td>284823.48</td>\n",
       "      <td>-235.921</td>\n",
       "    </tr>\n",
       "    <tr>\n",
       "      <th>4</th>\n",
       "      <td>Shop - 1:1 - Desk - [shop promo]</td>\n",
       "      <td>July</td>\n",
       "      <td>808</td>\n",
       "      <td>282</td>\n",
       "      <td>0.35</td>\n",
       "      <td>61</td>\n",
       "      <td>0.15</td>\n",
       "      <td>391</td>\n",
       "      <td>1.39</td>\n",
       "      <td>337</td>\n",
       "      <td>7717.77</td>\n",
       "      <td>-53.604</td>\n",
       "    </tr>\n",
       "  </tbody>\n",
       "</table>\n",
       "</div>"
      ],
      "text/plain": [
       "                                   Ad Group Month  Impressions  Clicks   CTR  \\\n",
       "0    Shop - 1:1 - Desk - [shop coupon code]  July        16038    6504  0.41   \n",
       "1         Shop - 1:1 - Desk - [shop coupon]  July        36462   14367  0.39   \n",
       "2  Shop - 1:1 - Desk - [shop discount code]  July         3635    1458  0.40   \n",
       "3     Shop - 1:1 - Desk - [shop promo code]  July        26185   10418  0.40   \n",
       "4          Shop - 1:1 - Desk - [shop promo]  July          808     282  0.35   \n",
       "\n",
       "   Conversions  Conv Rate   Cost   CPC  Revenue  Sale Amount      P&L  \n",
       "0         1166       0.10   6669  1.03     6402    136770.05 -267.086  \n",
       "1         2188       0.09  13746  0.96    13262    283215.21 -483.951  \n",
       "2          248       0.09   1606  1.10     1723     39165.46  117.136  \n",
       "3         2294       0.12  13278  1.27    13042    284823.48 -235.921  \n",
       "4           61       0.15    391  1.39      337      7717.77  -53.604  "
      ]
     },
     "execution_count": 4,
     "metadata": {},
     "output_type": "execute_result"
    }
   ],
   "source": [
    "market_df = pd.read_csv(\"final_shop_6modata.csv\")\n",
    "market_df.head()"
   ]
  },
  {
   "cell_type": "code",
   "execution_count": 5,
   "metadata": {},
   "outputs": [],
   "source": [
    "def find_outliers(data: pd.DataFrame, feature: str)-> pd.DataFrame:\n",
    "    q1 = data[feature].quantile(0.25)\n",
    "    q3 = data[feature].quantile(0.75)\n",
    "    iqr = q3 - q1\n",
    "\n",
    "    low_iqr = data[feature] < q1 - 1.5*iqr\n",
    "    high_iqr = data[feature] > q3 + 1.5*iqr\n",
    "\n",
    "    outliers = data[low_iqr | high_iqr]\n",
    "\n",
    "    print(\"Outliers Couns: \", len(outliers))\n",
    "    top_outliers = outliers.sort_values(feature, ascending=False)[:5]\n",
    "\n",
    "    print(\"Top Outliers Data:\\n\", top_outliers)\n",
    "\n",
    "    return outliers"
   ]
  },
  {
   "cell_type": "code",
   "execution_count": 59,
   "metadata": {},
   "outputs": [],
   "source": [
    "def box_and_line_plots(data: pd.DataFrame, feature: str):\n",
    "    fig, axes = plt.subplots(nrows=3, ncols=2, figsize=(15, 7))\n",
    "\n",
    "    for i, _ in enumerate(axes):\n",
    "        if i == 0:\n",
    "            sns.boxplot(x=data[feature], ax=axes[0, 0])\n",
    "            sns.lineplot(x=\"Month\",y=market_df[feature], data=data, ax=axes[0, 1])\n",
    "        else:\n",
    "            sns.boxplot(x=data[feature], y=data[HUES[i-1]], ax=axes[i, 0])\n",
    "            sns.lineplot(x=\"Month\",y=market_df[feature], hue=HUES[i-1], data=data, ax=axes[i, 1])\n",
    "\n",
    "    plt.show()"
   ]
  },
  {
   "cell_type": "code",
   "execution_count": null,
   "metadata": {},
   "outputs": [],
   "source": [
    "def multivariate_plot(data: pd.DataFrame, feature: str):\n",
    "    pass"
   ]
  },
  {
   "cell_type": "code",
   "execution_count": 6,
   "metadata": {},
   "outputs": [
    {
     "name": "stdout",
     "output_type": "stream",
     "text": [
      "<class 'pandas.core.frame.DataFrame'>\n",
      "RangeIndex: 190 entries, 0 to 189\n",
      "Data columns (total 12 columns):\n",
      " #   Column       Non-Null Count  Dtype  \n",
      "---  ------       --------------  -----  \n",
      " 0   Ad Group     190 non-null    object \n",
      " 1   Month        190 non-null    object \n",
      " 2   Impressions  190 non-null    int64  \n",
      " 3   Clicks       190 non-null    int64  \n",
      " 4   CTR          190 non-null    float64\n",
      " 5   Conversions  190 non-null    int64  \n",
      " 6   Conv Rate    190 non-null    float64\n",
      " 7   Cost         190 non-null    int64  \n",
      " 8   CPC          190 non-null    float64\n",
      " 9   Revenue      190 non-null    int64  \n",
      " 10  Sale Amount  190 non-null    float64\n",
      " 11  P&L          190 non-null    float64\n",
      "dtypes: float64(5), int64(5), object(2)\n",
      "memory usage: 17.9+ KB\n"
     ]
    }
   ],
   "source": [
    "market_df.info()"
   ]
  },
  {
   "cell_type": "code",
   "execution_count": 7,
   "metadata": {},
   "outputs": [
    {
     "data": {
      "text/plain": [
       "0"
      ]
     },
     "execution_count": 7,
     "metadata": {},
     "output_type": "execute_result"
    }
   ],
   "source": [
    "market_df.isnull().any().sum()"
   ]
  },
  {
   "cell_type": "code",
   "execution_count": 8,
   "metadata": {},
   "outputs": [
    {
     "data": {
      "text/plain": [
       "0"
      ]
     },
     "execution_count": 8,
     "metadata": {},
     "output_type": "execute_result"
    }
   ],
   "source": [
    "market_df.duplicated(keep=False).sum()"
   ]
  },
  {
   "cell_type": "code",
   "execution_count": 9,
   "metadata": {},
   "outputs": [
    {
     "data": {
      "text/html": [
       "<div>\n",
       "<style scoped>\n",
       "    .dataframe tbody tr th:only-of-type {\n",
       "        vertical-align: middle;\n",
       "    }\n",
       "\n",
       "    .dataframe tbody tr th {\n",
       "        vertical-align: top;\n",
       "    }\n",
       "\n",
       "    .dataframe thead th {\n",
       "        text-align: right;\n",
       "    }\n",
       "</style>\n",
       "<table border=\"1\" class=\"dataframe\">\n",
       "  <thead>\n",
       "    <tr style=\"text-align: right;\">\n",
       "      <th></th>\n",
       "      <th>Ad Group</th>\n",
       "      <th>Month</th>\n",
       "      <th>Impressions</th>\n",
       "      <th>Clicks</th>\n",
       "      <th>CTR</th>\n",
       "      <th>Conversions</th>\n",
       "      <th>Conv Rate</th>\n",
       "      <th>Cost</th>\n",
       "      <th>CPC</th>\n",
       "      <th>Revenue</th>\n",
       "      <th>Sale Amount</th>\n",
       "      <th>P&amp;L</th>\n",
       "    </tr>\n",
       "  </thead>\n",
       "  <tbody>\n",
       "    <tr>\n",
       "      <th>0</th>\n",
       "      <td>Shop - 1:1 - Desk - [shop coupon code]</td>\n",
       "      <td>July</td>\n",
       "      <td>16038</td>\n",
       "      <td>6504</td>\n",
       "      <td>0.41</td>\n",
       "      <td>1166</td>\n",
       "      <td>0.10</td>\n",
       "      <td>6669</td>\n",
       "      <td>1.03</td>\n",
       "      <td>6402</td>\n",
       "      <td>136770.05</td>\n",
       "      <td>-267.086</td>\n",
       "    </tr>\n",
       "    <tr>\n",
       "      <th>1</th>\n",
       "      <td>Shop - 1:1 - Desk - [shop coupon]</td>\n",
       "      <td>July</td>\n",
       "      <td>36462</td>\n",
       "      <td>14367</td>\n",
       "      <td>0.39</td>\n",
       "      <td>2188</td>\n",
       "      <td>0.09</td>\n",
       "      <td>13746</td>\n",
       "      <td>0.96</td>\n",
       "      <td>13262</td>\n",
       "      <td>283215.21</td>\n",
       "      <td>-483.951</td>\n",
       "    </tr>\n",
       "  </tbody>\n",
       "</table>\n",
       "</div>"
      ],
      "text/plain": [
       "                                 Ad Group Month  Impressions  Clicks   CTR  \\\n",
       "0  Shop - 1:1 - Desk - [shop coupon code]  July        16038    6504  0.41   \n",
       "1       Shop - 1:1 - Desk - [shop coupon]  July        36462   14367  0.39   \n",
       "\n",
       "   Conversions  Conv Rate   Cost   CPC  Revenue  Sale Amount      P&L  \n",
       "0         1166       0.10   6669  1.03     6402    136770.05 -267.086  \n",
       "1         2188       0.09  13746  0.96    13262    283215.21 -483.951  "
      ]
     },
     "execution_count": 9,
     "metadata": {},
     "output_type": "execute_result"
    }
   ],
   "source": [
    "market_df.head(2)"
   ]
  },
  {
   "cell_type": "code",
   "execution_count": 10,
   "metadata": {},
   "outputs": [
    {
     "name": "stdout",
     "output_type": "stream",
     "text": [
      "<class 'pandas.core.frame.DataFrame'>\n",
      "RangeIndex: 190 entries, 0 to 189\n",
      "Data columns (total 12 columns):\n",
      " #   Column       Non-Null Count  Dtype  \n",
      "---  ------       --------------  -----  \n",
      " 0   Ad Group     190 non-null    object \n",
      " 1   Month        190 non-null    object \n",
      " 2   Impressions  190 non-null    int64  \n",
      " 3   Clicks       190 non-null    int64  \n",
      " 4   CTR          190 non-null    float64\n",
      " 5   Conversions  190 non-null    int64  \n",
      " 6   Conv Rate    190 non-null    float64\n",
      " 7   Cost         190 non-null    int64  \n",
      " 8   CPC          190 non-null    float64\n",
      " 9   Revenue      190 non-null    int64  \n",
      " 10  Sale Amount  190 non-null    float64\n",
      " 11  P&L          190 non-null    float64\n",
      "dtypes: float64(5), int64(5), object(2)\n",
      "memory usage: 17.9+ KB\n"
     ]
    }
   ],
   "source": [
    "market_df.info()"
   ]
  },
  {
   "attachments": {},
   "cell_type": "markdown",
   "metadata": {},
   "source": [
    "##### **Manipulating Ad Group**\n",
    "<p>The ad group contain multiple words that could be separated into sevaral columns to deepend our analysis</p>"
   ]
  },
  {
   "cell_type": "code",
   "execution_count": 11,
   "metadata": {},
   "outputs": [
    {
     "data": {
      "text/html": [
       "<div>\n",
       "<style scoped>\n",
       "    .dataframe tbody tr th:only-of-type {\n",
       "        vertical-align: middle;\n",
       "    }\n",
       "\n",
       "    .dataframe tbody tr th {\n",
       "        vertical-align: top;\n",
       "    }\n",
       "\n",
       "    .dataframe thead th {\n",
       "        text-align: right;\n",
       "    }\n",
       "</style>\n",
       "<table border=\"1\" class=\"dataframe\">\n",
       "  <thead>\n",
       "    <tr style=\"text-align: right;\">\n",
       "      <th></th>\n",
       "      <th>Ad Group</th>\n",
       "      <th>Month</th>\n",
       "      <th>Impressions</th>\n",
       "      <th>Clicks</th>\n",
       "      <th>CTR</th>\n",
       "      <th>Conversions</th>\n",
       "      <th>Conv Rate</th>\n",
       "      <th>Cost</th>\n",
       "      <th>CPC</th>\n",
       "      <th>Revenue</th>\n",
       "      <th>Sale Amount</th>\n",
       "      <th>P&amp;L</th>\n",
       "      <th>Shop</th>\n",
       "      <th>Ad Types</th>\n",
       "      <th>Devices</th>\n",
       "      <th>Campaigns</th>\n",
       "    </tr>\n",
       "  </thead>\n",
       "  <tbody>\n",
       "    <tr>\n",
       "      <th>0</th>\n",
       "      <td>Shop - 1:1 - Desk - [shop coupon code]</td>\n",
       "      <td>July</td>\n",
       "      <td>16038</td>\n",
       "      <td>6504</td>\n",
       "      <td>0.41</td>\n",
       "      <td>1166</td>\n",
       "      <td>0.10</td>\n",
       "      <td>6669</td>\n",
       "      <td>1.03</td>\n",
       "      <td>6402</td>\n",
       "      <td>136770.05</td>\n",
       "      <td>-267.086</td>\n",
       "      <td>Shop</td>\n",
       "      <td>1:1</td>\n",
       "      <td>Desk</td>\n",
       "      <td>[shop coupon code]</td>\n",
       "    </tr>\n",
       "    <tr>\n",
       "      <th>1</th>\n",
       "      <td>Shop - 1:1 - Desk - [shop coupon]</td>\n",
       "      <td>July</td>\n",
       "      <td>36462</td>\n",
       "      <td>14367</td>\n",
       "      <td>0.39</td>\n",
       "      <td>2188</td>\n",
       "      <td>0.09</td>\n",
       "      <td>13746</td>\n",
       "      <td>0.96</td>\n",
       "      <td>13262</td>\n",
       "      <td>283215.21</td>\n",
       "      <td>-483.951</td>\n",
       "      <td>Shop</td>\n",
       "      <td>1:1</td>\n",
       "      <td>Desk</td>\n",
       "      <td>[shop coupon]</td>\n",
       "    </tr>\n",
       "  </tbody>\n",
       "</table>\n",
       "</div>"
      ],
      "text/plain": [
       "                                 Ad Group Month  Impressions  Clicks   CTR  \\\n",
       "0  Shop - 1:1 - Desk - [shop coupon code]  July        16038    6504  0.41   \n",
       "1       Shop - 1:1 - Desk - [shop coupon]  July        36462   14367  0.39   \n",
       "\n",
       "   Conversions  Conv Rate   Cost   CPC  Revenue  Sale Amount      P&L  Shop  \\\n",
       "0         1166       0.10   6669  1.03     6402    136770.05 -267.086  Shop   \n",
       "1         2188       0.09  13746  0.96    13262    283215.21 -483.951  Shop   \n",
       "\n",
       "  Ad Types Devices           Campaigns  \n",
       "0      1:1    Desk  [shop coupon code]  \n",
       "1      1:1    Desk       [shop coupon]  "
      ]
     },
     "execution_count": 11,
     "metadata": {},
     "output_type": "execute_result"
    }
   ],
   "source": [
    "market_df[[\"Shop\", \"Ad Types\", \"Devices\", \"Campaigns\"]] = market_df[\"Ad Group\"].str.split(\" - \", n=3, expand=True)\n",
    "market_df.head(2)"
   ]
  },
  {
   "cell_type": "code",
   "execution_count": 12,
   "metadata": {},
   "outputs": [],
   "source": [
    "market_df.drop([[\"Shop\", \"Ad Group\"]], axis=1, inplace=True)"
   ]
  },
  {
   "cell_type": "code",
   "execution_count": 13,
   "metadata": {},
   "outputs": [],
   "source": [
    "# # Cleaned Campaigned\n",
    "# cleaned_name = {}\n",
    "# for campaign in market_df[\"Campaigns\"].unique():\n",
    "#     if \"[\" in campaign:\n",
    "#         cleaned_name[campaign] = campaign.strip(\"[]\")\n",
    "#     else:\n",
    "#         cleaned_name[campaign] = campaign\n",
    "\n",
    "# market_df[\"Campaigns\"].replace(cleaned_name, inplace=True)"
   ]
  },
  {
   "cell_type": "code",
   "execution_count": 14,
   "metadata": {},
   "outputs": [],
   "source": [
    "# Change device data for better clarity\n",
    "initial_name = market_df[\"Devices\"].unique()\n",
    "new_name = [\"Desktop\", \"Mobile\"]\n",
    "change_name = dict(zip(initial_name, new_name))\n",
    "\n",
    "market_df[\"Devices\"].replace(change_name, inplace=True)"
   ]
  },
  {
   "attachments": {},
   "cell_type": "markdown",
   "metadata": {},
   "source": [
    "##### **Checking Impression Data**"
   ]
  },
  {
   "cell_type": "code",
   "execution_count": 15,
   "metadata": {},
   "outputs": [
    {
     "data": {
      "image/png": "[encoded data removed]",
      "text/plain": [
       "<Figure size 432x288 with 1 Axes>"
      ]
     },
     "metadata": {
      "needs_background": "light"
     },
     "output_type": "display_data"
    }
   ],
   "source": [
    "sns.histplot(market_df[\"Impressions\"])\n",
    "plt.yscale(\"log\")"
   ]
  },
  {
   "cell_type": "code",
   "execution_count": 27,
   "metadata": {},
   "outputs": [
    {
     "data": {
      "text/plain": [
       "21"
      ]
     },
     "execution_count": 27,
     "metadata": {},
     "output_type": "execute_result"
    }
   ],
   "source": [
    "outliers = find_outliers(market_df, \"Impressions\")\n",
    "len(outliers)"
   ]
  },
  {
   "cell_type": "code",
   "execution_count": 18,
   "metadata": {},
   "outputs": [
    {
     "data": {
      "text/plain": [
       "count       190.000000\n",
       "mean      14077.363158\n",
       "std       29771.686227\n",
       "min          35.000000\n",
       "25%        1065.000000\n",
       "50%        4969.000000\n",
       "75%       13380.000000\n",
       "max      276568.000000\n",
       "Name: Impressions, dtype: float64"
      ]
     },
     "execution_count": 18,
     "metadata": {},
     "output_type": "execute_result"
    }
   ],
   "source": [
    "market_df.describe()[\"Impressions\"]"
   ]
  },
  {
   "cell_type": "code",
   "execution_count": 20,
   "metadata": {},
   "outputs": [
    {
     "data": {
      "text/html": [
       "<div>\n",
       "<style scoped>\n",
       "    .dataframe tbody tr th:only-of-type {\n",
       "        vertical-align: middle;\n",
       "    }\n",
       "\n",
       "    .dataframe tbody tr th {\n",
       "        vertical-align: top;\n",
       "    }\n",
       "\n",
       "    .dataframe thead th {\n",
       "        text-align: right;\n",
       "    }\n",
       "</style>\n",
       "<table border=\"1\" class=\"dataframe\">\n",
       "  <thead>\n",
       "    <tr style=\"text-align: right;\">\n",
       "      <th></th>\n",
       "      <th>Ad Group</th>\n",
       "      <th>Month</th>\n",
       "      <th>Impressions</th>\n",
       "      <th>Clicks</th>\n",
       "      <th>CTR</th>\n",
       "      <th>Conversions</th>\n",
       "      <th>Conv Rate</th>\n",
       "      <th>Cost</th>\n",
       "      <th>CPC</th>\n",
       "      <th>Revenue</th>\n",
       "      <th>Sale Amount</th>\n",
       "      <th>P&amp;L</th>\n",
       "      <th>Ad Types</th>\n",
       "      <th>Devices</th>\n",
       "      <th>Campaigns</th>\n",
       "    </tr>\n",
       "  </thead>\n",
       "  <tbody>\n",
       "    <tr>\n",
       "      <th>151</th>\n",
       "      <td>Shop - 1:1 - Mob - [shop coupon]</td>\n",
       "      <td>November</td>\n",
       "      <td>276568</td>\n",
       "      <td>99526</td>\n",
       "      <td>0.36</td>\n",
       "      <td>5961</td>\n",
       "      <td>0.05</td>\n",
       "      <td>38273</td>\n",
       "      <td>0.38</td>\n",
       "      <td>32668</td>\n",
       "      <td>677188.1</td>\n",
       "      <td>-5605.297</td>\n",
       "      <td>1:1</td>\n",
       "      <td>Mobile</td>\n",
       "      <td>[shop coupon]</td>\n",
       "    </tr>\n",
       "  </tbody>\n",
       "</table>\n",
       "</div>"
      ],
      "text/plain": [
       "                             Ad Group     Month  Impressions  Clicks   CTR  \\\n",
       "151  Shop - 1:1 - Mob - [shop coupon]  November       276568   99526  0.36   \n",
       "\n",
       "     Conversions  Conv Rate   Cost   CPC  Revenue  Sale Amount       P&L  \\\n",
       "151         5961       0.05  38273  0.38    32668     677188.1 -5605.297   \n",
       "\n",
       "    Ad Types Devices      Campaigns  \n",
       "151      1:1  Mobile  [shop coupon]  "
      ]
     },
     "execution_count": 20,
     "metadata": {},
     "output_type": "execute_result"
    }
   ],
   "source": [
    "market_df[market_df[\"Impressions\"] == market_df[\"Impressions\"].max()]"
   ]
  },
  {
   "cell_type": "code",
   "execution_count": 33,
   "metadata": {},
   "outputs": [
    {
     "data": {
      "image/png": "[encoded data removed]",
      "text/plain": [
       "<Figure size 720x504 with 3 Axes>"
      ]
     },
     "metadata": {
      "needs_background": "light"
     },
     "output_type": "display_data"
    }
   ],
   "source": [
    "fig, axes = plt.subplots(nrows=3, ncols=1, figsize=(10, 7))\n",
    "\n",
    "sns.lineplot(x=\"Month\",y=market_df[\"Impressions\"], data=market_df, ax=axes[0])\n",
    "sns.lineplot(x=\"Month\",y=market_df[\"Impressions\"], hue=\"Devices\", data=market_df, ax=axes[1])\n",
    "sns.lineplot(x=\"Month\",y=market_df[\"Impressions\"], hue=\"Ad Types\", data=market_df, ax=axes[2])\n",
    "\n",
    "plt.show()"
   ]
  },
  {
   "attachments": {},
   "cell_type": "markdown",
   "metadata": {},
   "source": [
    "##### Key Takeaways from Impressions\n",
    "<p>Overall Impression average is 14077, which means the ads are shown to user 14077.363 at average from July to November</p>\n",
    "<p>From July to August, the impressin is dropped but and tend to decline until October, but on october the impressions are soaring</p>"
   ]
  }
 ],
 "metadata": {
  "kernelspec": {
   "display_name": "Python 3",
   "language": "python",
   "name": "python3"
  },
  "language_info": {
   "codemirror_mode": {
    "name": "ipython",
    "version": 3
   },
   "file_extension": ".py",
   "mimetype": "text/x-python",
   "name": "python",
   "nbconvert_exporter": "python",
   "pygments_lexer": "ipython3",
   "version": "3.10.0"
  },
  "orig_nbformat": 4,
  "vscode": {
   "interpreter": {
    "hash": "ec71345ca5d37a0e9a74c52dd4df8f08155a9116efa2c99cb350734e2b4aad3e"
   }
  }
 },
 "nbformat": 4,
 "nbformat_minor": 2
}
